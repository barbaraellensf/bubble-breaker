{
 "cells": [
  {
   "cell_type": "code",
   "execution_count": 2,
   "metadata": {},
   "outputs": [],
   "source": [
    "import pandas as pd\n",
    "import csv"
   ]
  },
  {
   "cell_type": "code",
   "execution_count": 16,
   "metadata": {},
   "outputs": [],
   "source": [
    "trump = pd.DataFrame(pd.read_csv(\"trump.csv\"))\n",
    "biden = pd.DataFrame(pd.read_csv(\"biden.csv\"))\n",
    "\n",
    "tweets = pd.concat([trump,biden])"
   ]
  },
  {
   "cell_type": "code",
   "execution_count": 25,
   "metadata": {},
   "outputs": [
    {
     "name": "stdout",
     "output_type": "stream",
     "text": [
      "            tweet_id                                              tweet  \\\n",
      "586     1.320000e+18  \"I moved on her like a bitch.\" -Donald Trump #...   \n",
      "795     1.320000e+18  â€œAll of the women on The Apprentice flirted ...   \n",
      "1404    1.320000e+18  \"Drain the swamp\",\"Funny how that term caught ...   \n",
      "1504    1.320000e+18  â€œItâ€™s freezing and snowing in New York â€“...   \n",
      "1555    1.320000e+18  On locking up Hillary:\"That played well before...   \n",
      "...              ...                                                ...   \n",
      "180834  1.330000e+18  She channeled @realDonaldTrumpâ€™s truth right...   \n",
      "180836  1.330000e+18  To President Biden and Vice President Kamala H...   \n",
      "180887  1.330000e+18  If itâ€™s not love then itâ€™s the bomb that w...   \n",
      "180888  1.330000e+18  https://t.co/kZlpE7iZIj #governors #Cuomo #New...   \n",
      "181127  1.330000e+18  #Biden ðŸ—½ðŸ‡ºðŸ‡¸ðŸ‘ðŸ½ | Images ðŸ“· @ Sa...   \n",
      "\n",
      "        likes  retweet_count              source       user_id  \\\n",
      "586         0              0        Quote Reader  7.970000e+17   \n",
      "795         0              0        Quote Reader  7.970000e+17   \n",
      "1404        0              0        Quote Reader  7.970000e+17   \n",
      "1504        0              0        Quote Reader  7.970000e+17   \n",
      "1555        0              0        Quote Reader  7.970000e+17   \n",
      "...       ...            ...                 ...           ...   \n",
      "180834     19              2  Twitter for iPhone  3.374736e+07   \n",
      "180836      0              0     Twitter Web App  1.300000e+18   \n",
      "180887      0              0  Twitter for iPhone  1.581890e+09   \n",
      "180888      0              0     Twitter Web App  4.042811e+08   \n",
      "181127      1              0  Twitter for iPhone  1.057408e+09   \n",
      "\n",
      "                user_name                                   user_description  \\\n",
      "586             Trump Bot  I'm a Donald Trump Bot that regurgitates all t...   \n",
      "795             Trump Bot  I'm a Donald Trump Bot that regurgitates all t...   \n",
      "1404            Trump Bot  I'm a Donald Trump Bot that regurgitates all t...   \n",
      "1504            Trump Bot  I'm a Donald Trump Bot that regurgitates all t...   \n",
      "1555            Trump Bot  I'm a Donald Trump Bot that regurgitates all t...   \n",
      "...                   ...                                                ...   \n",
      "180834      Brian Monarch  Comedian and deepfaker seen on Comedy Central,...   \n",
      "180836       Horace Appen  Professor of Biblical Studies. Joshua Internat...   \n",
      "180887      drew Figueroa                                                NaN   \n",
      "180888  The Global Spring  Raise Levels of Well-Being in the World by Add...   \n",
      "181127      PROJECT13 MAG  Sports | Motorsports | ET, Indie Film & Foodie...   \n",
      "\n",
      "        user_followers_count         city                   country  \\\n",
      "586                      136          NaN             United States   \n",
      "795                      136          NaN             United States   \n",
      "1404                     136          NaN             United States   \n",
      "1504                     136          NaN             United States   \n",
      "1555                     136          NaN             United States   \n",
      "...                      ...          ...                       ...   \n",
      "180834                  3004  Los Angeles  United States of America   \n",
      "180836                    23     New York  United States of America   \n",
      "180887                     7    Fullerton  United States of America   \n",
      "180888                   461     Berkeley  United States of America   \n",
      "181127                  8881  Los Angeles  United States of America   \n",
      "\n",
      "             state candidate  \n",
      "586            NaN     Trump  \n",
      "795            NaN     Trump  \n",
      "1404           NaN     Trump  \n",
      "1504           NaN     Trump  \n",
      "1555           NaN     Trump  \n",
      "...            ...       ...  \n",
      "180834  California     Biden  \n",
      "180836    New York     Biden  \n",
      "180887  California     Biden  \n",
      "180888  California     Biden  \n",
      "181127  California     Biden  \n",
      "\n",
      "[3195 rows x 13 columns]\n"
     ]
    }
   ],
   "source": []
  }
 ],
 "metadata": {
  "kernelspec": {
   "display_name": "Python 3.8.13 ('base')",
   "language": "python",
   "name": "python3"
  },
  "language_info": {
   "codemirror_mode": {
    "name": "ipython",
    "version": 3
   },
   "file_extension": ".py",
   "mimetype": "text/x-python",
   "name": "python",
   "nbconvert_exporter": "python",
   "pygments_lexer": "ipython3",
   "version": "3.8.13"
  },
  "orig_nbformat": 4,
  "vscode": {
   "interpreter": {
    "hash": "adc104243744b381c906f05ccd7f34fa2b3548d28c8522e2a7bc378ddcebc862"
   }
  }
 },
 "nbformat": 4,
 "nbformat_minor": 2
}
